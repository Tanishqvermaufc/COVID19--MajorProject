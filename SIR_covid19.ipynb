{
 "cells": [
  {
   "cell_type": "code",
   "execution_count": 1,
   "metadata": {},
   "outputs": [],
   "source": [
    "import numpy as np\n",
    "import pandas as pd\n",
    "import matplotlib.pyplot as plt\n",
    "import matplotlib.colors as mcolors\n",
    "import random\n",
    "import math\n",
    "import time\n",
    "from sklearn.linear_model import LinearRegression\n",
    "from sklearn.model_selection import RandomizedSearchCV\n",
    "from sklearn.model_selection import train_test_split\n",
    "from sklearn.preprocessing import PolynomialFeatures\n",
    "from sklearn.svm import SVR\n",
    "from sklearn.metrics import mean_squared_error , mean_absolute_error\n",
    "import datetime\n",
    "import operator\n",
    "plt.style.use('fivethirtyeight')\n",
    "%matplotlib inline"
   ]
  },
  {
   "cell_type": "code",
   "execution_count": 29,
   "metadata": {},
   "outputs": [],
   "source": [
    "# SIR model\n",
    "\n",
    "from scipy.integrate import solve_ivp\n",
    "from scipy.optimize import minimize\n",
    "import matplotlib.pyplot as plt\n",
    "from datetime import timedelta, datetime"
   ]
  },
  {
   "cell_type": "code",
   "execution_count": 42,
   "metadata": {},
   "outputs": [],
   "source": [
    "START_DATE = {\n",
    "    'Italy' : '1/31/20',\n",
    "    'India' : '1/30/20'\n",
    "}\n",
    "class Learner(object):\n",
    "    def __init__(self, country, loss, start_date='1/22/20', predict_range=150, s_0=100000, i_0=2, r_0=10):\n",
    "        self.country = country\n",
    "        self.loss = loss\n",
    "        self.start_date = start_date\n",
    "        self.predict_range = predict_range\n",
    "        self.s_0 = s_0\n",
    "        self.i_0 = i_0\n",
    "        self.r_0 = r_0\n",
    "        \n",
    "        \n",
    "    def load_confirmed(self, country):\n",
    "        df = pd.read_csv(r'C:\\Users\\lenovo10-07-2015\\Desktop\\Major 2020\\MAJOR-2 CORONAVIRUS\\COVID-19-master\\csse_covid_19_data\\csse_covid_19_time_series\\time_series_covid19_confirmed_global.csv')\n",
    "        df = df.drop(['Province/State'], axis=1)\n",
    "        country_df = df[df['Country/Region'] == country]\n",
    "        return country_df.iloc[0].loc[self.start_date:]\n",
    "    \n",
    "    \n",
    "    def load_recovered(self, country):\n",
    "        df = pd.read_csv(r'C:\\Users\\lenovo10-07-2015\\Desktop\\Major 2020\\MAJOR-2 CORONAVIRUS\\COVID-19-master\\csse_covid_19_data\\csse_covid_19_time_series\\time_series_covid19_recovered_global.csv')\n",
    "        df = df.drop(['Province/State'], axis=1) \n",
    "        country_df = df[df['Country/Region'] == country]\n",
    "        return country_df.iloc[0].loc[self.start_date:]\n",
    "    \n",
    "    def load_dead(self, country):\n",
    "        df = pd.read_csv(r'C:\\Users\\lenovo10-07-2015\\Desktop\\Major 2020\\MAJOR-2 CORONAVIRUS\\COVID-19-master\\csse_covid_19_data\\csse_covid_19_time_series\\time_series_covid19_deaths_global.csv')\n",
    "        df = df.drop(['Province/State'], axis=1) \n",
    "        country_df = df[df['Country/Region'] == country]\n",
    "        return country_df.iloc[0].loc[self.start_date:]\n",
    "    \n",
    "    def extend_index(self, index, new_size):\n",
    "        values= index.values\n",
    "        current= datetime.strptime(index[-1], '%m/%d/%y')\n",
    "        while len(values) < new_size:\n",
    "            current = cuurent + timedelta(days=1)\n",
    "            values = np.append(values, datetime.strftime(current, '%m/%d/%y'))\n",
    "            return values\n",
    "        \n",
    "    def predict(self, beta, gamma, data, recovered, death, country, s_0,i_0,r_0):\n",
    "        \n",
    "        new_index= self.extend_index(data.index, self.predict_range)\n",
    "        size= len(new_index)\n",
    "        def SIR(t, y):\n",
    "            S = y[0]\n",
    "            I = y[1]\n",
    "            R = y[2]\n",
    "            return [-beta*S*I, beta*S*I-gamma*I, gamma*I]\n",
    "        extended_actual = np.concatenate((data.values, [None] * (size - len(data.values))))\n",
    "        extended_recovered = np.concatenate((recovered.values, [None] * (size - len(recovered.values))))\n",
    "        extended_death = np.concatenate((death.values, [None] * (size - len(death.values))))\n",
    "        return (new_index, extended_actual, extended_recovered, extended_death, solve_ivp(SIR, [0, size], [s_0,i_0,r_0], t_eval=np.arange(0, size,1)))\n",
    "    \n",
    "    def train(self):\n",
    "        recovered = self.load_recovered(self.country)\n",
    "        death = self.load_dead(self.country)\n",
    "        data = (self.load_confirmed(self.country) - recovered - death)\n",
    "        \n",
    "        optimal = minimize(loss, [0.001, 0.001], args = (data, recovered, self.s_0, self.i_0, self.r_0), method='L-BFGS-B', bounds = [(0.00000001, 0.4), (0.00000001, 0.4)])\n",
    "        \n",
    "        print(optimal)\n",
    "        \n",
    "        beta, gamma = optimal.x\n",
    "        new_index, extended_actual, extended_recovered, extended_death, prediction = self.predict(beta, gamma, data, self.country, self.s_0, self.i_0, self.r_0)\n",
    "        df = pd.DataFrame({'Infected Data' : extended_actual, 'Recovered Data' : extended_recovered, 'Death Data' : extended_death, 'Susceptible' : prediction.y[0], 'Infected' : prediction.y[1], 'Recovered' : prediction.y[2]}, index = new_index)\n",
    "        \n",
    "        df.to_csv(f\"{self.country}.csv\")\n",
    "        fig, ax = plt.subplots(figsize = (15,10))\n",
    "        ax.set_title(self.country)\n",
    "        df.plot(ax=ax)\n",
    "        print(f\"country={self.country}, beta={beta: .8f}, gamma={gamma: .8f}, r_0:{(beta/gamma) : .8f}\")\n",
    "        fig.savefig(f\"{self.country}.png\")\n",
    "        return df, fig\n",
    "        "
   ]
  },
  {
   "cell_type": "code",
   "execution_count": 43,
   "metadata": {},
   "outputs": [],
   "source": [
    "def loss(point, data, recovered, s_0, i_0, r_0):\n",
    "    size = len(data)\n",
    "    beta, gamma = point\n",
    "    def SIR(t, y):\n",
    "        S = y[0]\n",
    "        I = y[1]\n",
    "        R = y[2]\n",
    "        return [-beta*S*I, beta*S*I-gamma*I, gamma*I]\n",
    "    solution = solve_ivp(SIR, [0,size], [s_0,i_0,r_0], t_eval=np.arange(0, size, 1), vectorized=True)\n",
    "    l1 = np.sqrt(np.mean((solution.y[1] - data)**2))\n",
    "    l2 = np.sqrt(np.mean((solution.y[2] - recovered)**2))\n",
    "    alpha = 0.1\n",
    "    return alpha * 11 + (1-alpha) *12"
   ]
  },
  {
   "cell_type": "code",
   "execution_count": 44,
   "metadata": {},
   "outputs": [
    {
     "name": "stdout",
     "output_type": "stream",
     "text": [
      "      fun: 11.9\n",
      " hess_inv: <2x2 LbfgsInvHessProduct with dtype=float64>\n",
      "      jac: array([0., 0.])\n",
      "  message: b'CONVERGENCE: NORM_OF_PROJECTED_GRADIENT_<=_PGTOL'\n",
      "     nfev: 3\n",
      "      nit: 0\n",
      "   status: 0\n",
      "  success: True\n",
      "        x: array([0.001, 0.001])\n"
     ]
    },
    {
     "ename": "TypeError",
     "evalue": "predict() missing 2 required positional arguments: 'i_0' and 'r_0'",
     "output_type": "error",
     "traceback": [
      "\u001b[1;31m---------------------------------------------------------------------------\u001b[0m",
      "\u001b[1;31mTypeError\u001b[0m                                 Traceback (most recent call last)",
      "\u001b[1;32m<ipython-input-44-a532dd99ddd1>\u001b[0m in \u001b[0;36m<module>\u001b[1;34m\u001b[0m\n\u001b[0;32m      1\u001b[0m \u001b[0mindia_learner\u001b[0m\u001b[1;33m=\u001b[0m\u001b[0mLearner\u001b[0m\u001b[1;33m(\u001b[0m\u001b[0mcountry\u001b[0m\u001b[1;33m=\u001b[0m\u001b[1;34m\"India\"\u001b[0m\u001b[1;33m,\u001b[0m \u001b[0mloss\u001b[0m\u001b[1;33m=\u001b[0m\u001b[0mloss\u001b[0m\u001b[1;33m,\u001b[0m \u001b[0mi_0\u001b[0m\u001b[1;33m=\u001b[0m\u001b[1;36m3\u001b[0m\u001b[1;33m)\u001b[0m\u001b[1;33m\u001b[0m\u001b[1;33m\u001b[0m\u001b[0m\n\u001b[1;32m----> 2\u001b[1;33m \u001b[0mindia_sir\u001b[0m\u001b[1;33m,\u001b[0m \u001b[0mindia_sir_fig\u001b[0m \u001b[1;33m=\u001b[0m \u001b[0mindia_learner\u001b[0m\u001b[1;33m.\u001b[0m\u001b[0mtrain\u001b[0m\u001b[1;33m(\u001b[0m\u001b[1;33m)\u001b[0m\u001b[1;33m\u001b[0m\u001b[1;33m\u001b[0m\u001b[0m\n\u001b[0m",
      "\u001b[1;32m<ipython-input-42-c8531f809f1b>\u001b[0m in \u001b[0;36mtrain\u001b[1;34m(self)\u001b[0m\n\u001b[0;32m     65\u001b[0m \u001b[1;33m\u001b[0m\u001b[0m\n\u001b[0;32m     66\u001b[0m         \u001b[0mbeta\u001b[0m\u001b[1;33m,\u001b[0m \u001b[0mgamma\u001b[0m \u001b[1;33m=\u001b[0m \u001b[0moptimal\u001b[0m\u001b[1;33m.\u001b[0m\u001b[0mx\u001b[0m\u001b[1;33m\u001b[0m\u001b[1;33m\u001b[0m\u001b[0m\n\u001b[1;32m---> 67\u001b[1;33m         \u001b[0mnew_index\u001b[0m\u001b[1;33m,\u001b[0m \u001b[0mextended_actual\u001b[0m\u001b[1;33m,\u001b[0m \u001b[0mextended_recovered\u001b[0m\u001b[1;33m,\u001b[0m \u001b[0mextended_death\u001b[0m\u001b[1;33m,\u001b[0m \u001b[0mprediction\u001b[0m \u001b[1;33m=\u001b[0m \u001b[0mself\u001b[0m\u001b[1;33m.\u001b[0m\u001b[0mpredict\u001b[0m\u001b[1;33m(\u001b[0m\u001b[0mbeta\u001b[0m\u001b[1;33m,\u001b[0m \u001b[0mgamma\u001b[0m\u001b[1;33m,\u001b[0m \u001b[0mdata\u001b[0m\u001b[1;33m,\u001b[0m \u001b[0mself\u001b[0m\u001b[1;33m.\u001b[0m\u001b[0mcountry\u001b[0m\u001b[1;33m,\u001b[0m \u001b[0mself\u001b[0m\u001b[1;33m.\u001b[0m\u001b[0ms_0\u001b[0m\u001b[1;33m,\u001b[0m \u001b[0mself\u001b[0m\u001b[1;33m.\u001b[0m\u001b[0mi_0\u001b[0m\u001b[1;33m,\u001b[0m \u001b[0mself\u001b[0m\u001b[1;33m.\u001b[0m\u001b[0mr_0\u001b[0m\u001b[1;33m)\u001b[0m\u001b[1;33m\u001b[0m\u001b[1;33m\u001b[0m\u001b[0m\n\u001b[0m\u001b[0;32m     68\u001b[0m         \u001b[0mdf\u001b[0m \u001b[1;33m=\u001b[0m \u001b[0mpd\u001b[0m\u001b[1;33m.\u001b[0m\u001b[0mDataFrame\u001b[0m\u001b[1;33m(\u001b[0m\u001b[1;33m{\u001b[0m\u001b[1;34m'Infected Data'\u001b[0m \u001b[1;33m:\u001b[0m \u001b[0mextended_actual\u001b[0m\u001b[1;33m,\u001b[0m \u001b[1;34m'Recovered Data'\u001b[0m \u001b[1;33m:\u001b[0m \u001b[0mextended_recovered\u001b[0m\u001b[1;33m,\u001b[0m \u001b[1;34m'Death Data'\u001b[0m \u001b[1;33m:\u001b[0m \u001b[0mextended_death\u001b[0m\u001b[1;33m,\u001b[0m \u001b[1;34m'Susceptible'\u001b[0m \u001b[1;33m:\u001b[0m \u001b[0mprediction\u001b[0m\u001b[1;33m.\u001b[0m\u001b[0my\u001b[0m\u001b[1;33m[\u001b[0m\u001b[1;36m0\u001b[0m\u001b[1;33m]\u001b[0m\u001b[1;33m,\u001b[0m \u001b[1;34m'Infected'\u001b[0m \u001b[1;33m:\u001b[0m \u001b[0mprediction\u001b[0m\u001b[1;33m.\u001b[0m\u001b[0my\u001b[0m\u001b[1;33m[\u001b[0m\u001b[1;36m1\u001b[0m\u001b[1;33m]\u001b[0m\u001b[1;33m,\u001b[0m \u001b[1;34m'Recovered'\u001b[0m \u001b[1;33m:\u001b[0m \u001b[0mprediction\u001b[0m\u001b[1;33m.\u001b[0m\u001b[0my\u001b[0m\u001b[1;33m[\u001b[0m\u001b[1;36m2\u001b[0m\u001b[1;33m]\u001b[0m\u001b[1;33m}\u001b[0m\u001b[1;33m,\u001b[0m \u001b[0mindex\u001b[0m \u001b[1;33m=\u001b[0m \u001b[0mnew_index\u001b[0m\u001b[1;33m)\u001b[0m\u001b[1;33m\u001b[0m\u001b[1;33m\u001b[0m\u001b[0m\n\u001b[0;32m     69\u001b[0m \u001b[1;33m\u001b[0m\u001b[0m\n",
      "\u001b[1;31mTypeError\u001b[0m: predict() missing 2 required positional arguments: 'i_0' and 'r_0'"
     ]
    }
   ],
   "source": [
    "india_learner=Learner(country=\"India\", loss=loss, i_0=3)\n",
    "india_sir, india_sir_fig = india_learner.train()"
   ]
  },
  {
   "cell_type": "code",
   "execution_count": null,
   "metadata": {},
   "outputs": [],
   "source": []
  }
 ],
 "metadata": {
  "kernelspec": {
   "display_name": "Python 3",
   "language": "python",
   "name": "python3"
  },
  "language_info": {
   "codemirror_mode": {
    "name": "ipython",
    "version": 3
   },
   "file_extension": ".py",
   "mimetype": "text/x-python",
   "name": "python",
   "nbconvert_exporter": "python",
   "pygments_lexer": "ipython3",
   "version": "3.7.6"
  }
 },
 "nbformat": 4,
 "nbformat_minor": 4
}
